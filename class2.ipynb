{
 "cells": [
  {
   "cell_type": "code",
   "execution_count": 2,
   "metadata": {},
   "outputs": [
    {
     "name": "stdout",
     "output_type": "stream",
     "text": [
      "['WBWBWBWB BWBWBWBW WBWBWBWB BWBBBWBW WBWBWBWB BWBWBWBW WBWBWBWB BWBWBWBW', '', '', '', '', '', '', '']\n"
     ]
    }
   ],
   "source": [
    "# 1018 체스판 다시 칠하기\n",
    "\n",
    "n, m = map(int, input().split())\n",
    "originmap = []\n",
    "for _ in range(n):\n",
    "    originmap.append(input())\n",
    "\n",
    "blacktile = ['BWBWBWBW']\n",
    "whitetile = ['WBWBWBWB']\n",
    "\n",
    "blackmap = []\n",
    "whitemap = []\n",
    "\n",
    "for _ in range(4):\n",
    "    blackmap.append(blacktile)\n",
    "    blackmap.append(whitetile)\n",
    "    whitemap.append(whitetile)\n",
    "    whitemap.append(blacktile)\n",
    "\n",
    "blackchange = 0\n",
    "whitechange = 0\n",
    "\n",
    "for i in range(0, n+1-8):\n",
    "    for j in range(0, m+1-8):\n",
    "        originmap[i:i+7]\n",
    "\n"
   ]
  },
  {
   "cell_type": "code",
   "execution_count": null,
   "metadata": {},
   "outputs": [],
   "source": []
  }
 ],
 "metadata": {
  "kernelspec": {
   "display_name": "Python 3.7.11 ('base')",
   "language": "python",
   "name": "python3"
  },
  "language_info": {
   "codemirror_mode": {
    "name": "ipython",
    "version": 3
   },
   "file_extension": ".py",
   "mimetype": "text/x-python",
   "name": "python",
   "nbconvert_exporter": "python",
   "pygments_lexer": "ipython3",
   "version": "3.7.11"
  },
  "orig_nbformat": 4,
  "vscode": {
   "interpreter": {
    "hash": "48acba2db4032312f997c09ca19b224ebd581d3b6d5cfb856604a165419622f1"
   }
  }
 },
 "nbformat": 4,
 "nbformat_minor": 2
}
