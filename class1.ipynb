{
 "cells": [
  {
   "cell_type": "code",
   "execution_count": null,
   "metadata": {},
   "outputs": [],
   "source": [
    "# 1157 단어공부\n",
    "\n",
    "from collections import Counter\n",
    "\n",
    "a = input()\n",
    "a = a.upper()\n",
    "count = Counter(a).most_common()\n",
    "\n",
    "if len(a) == 1:\n",
    "    print(a)\n",
    "elif count[0][1] == count[1][1]:\n",
    "    print('?')\n",
    "else:\n",
    "    print(count[0][0])\n",
    "\n",
    "# 다른 풀이\n"
   ]
  },
  {
   "cell_type": "code",
   "execution_count": null,
   "metadata": {},
   "outputs": [],
   "source": [
    "# 1546 평균\n",
    "\n",
    "scorelen = int(input())\n",
    "scorelist = list(map(int, input().split()))\n",
    "scorelist = sorted(scorelist, reverse=True)\n",
    "maxscore = scorelist[0]\n",
    "\n",
    "newscorelist = []\n",
    "for score in scorelist:\n",
    "    newscorelist.append(score/maxscore*100)\n",
    "\n",
    "print(sum(newscorelist)/scorelen)\n",
    "\n",
    "# 다른 풀이"
   ]
  },
  {
   "cell_type": "code",
   "execution_count": 1,
   "metadata": {},
   "outputs": [
    {
     "ename": "ValueError",
     "evalue": "invalid literal for int() with base 10: ''",
     "output_type": "error",
     "traceback": [
      "\u001b[1;31m---------------------------------------------------------------------------\u001b[0m",
      "\u001b[1;31mValueError\u001b[0m                                Traceback (most recent call last)",
      "\u001b[1;32mC:\\Users\\OHWONJ~1\\AppData\\Local\\Temp/ipykernel_19396/1415580377.py\u001b[0m in \u001b[0;36m<module>\u001b[1;34m\u001b[0m\n\u001b[0;32m      3\u001b[0m \u001b[1;32mfrom\u001b[0m \u001b[0mcollections\u001b[0m \u001b[1;32mimport\u001b[0m \u001b[0mCounter\u001b[0m\u001b[1;33m\u001b[0m\u001b[1;33m\u001b[0m\u001b[0m\n\u001b[0;32m      4\u001b[0m \u001b[1;33m\u001b[0m\u001b[0m\n\u001b[1;32m----> 5\u001b[1;33m \u001b[0ma\u001b[0m \u001b[1;33m=\u001b[0m \u001b[0mint\u001b[0m\u001b[1;33m(\u001b[0m\u001b[0minput\u001b[0m\u001b[1;33m(\u001b[0m\u001b[1;33m)\u001b[0m\u001b[1;33m)\u001b[0m\u001b[1;33m\u001b[0m\u001b[1;33m\u001b[0m\u001b[0m\n\u001b[0m\u001b[0;32m      6\u001b[0m \u001b[0mb\u001b[0m \u001b[1;33m=\u001b[0m \u001b[0mint\u001b[0m\u001b[1;33m(\u001b[0m\u001b[0minput\u001b[0m\u001b[1;33m(\u001b[0m\u001b[1;33m)\u001b[0m\u001b[1;33m)\u001b[0m\u001b[1;33m\u001b[0m\u001b[1;33m\u001b[0m\u001b[0m\n\u001b[0;32m      7\u001b[0m \u001b[0mc\u001b[0m \u001b[1;33m=\u001b[0m \u001b[0mint\u001b[0m\u001b[1;33m(\u001b[0m\u001b[0minput\u001b[0m\u001b[1;33m(\u001b[0m\u001b[1;33m)\u001b[0m\u001b[1;33m)\u001b[0m\u001b[1;33m\u001b[0m\u001b[1;33m\u001b[0m\u001b[0m\n",
      "\u001b[1;31mValueError\u001b[0m: invalid literal for int() with base 10: ''"
     ]
    }
   ],
   "source": [
    "# 2577 숫자의 개수\n",
    "\n",
    "from collections import Counter\n",
    "\n",
    "a = int(input())\n",
    "b = int(input())\n",
    "c = int(input())\n",
    "\n",
    "multinum = a * b * c\n",
    "multinum = list(str(multinum))\n",
    "\n",
    "num_dict = {}\n",
    "for num in range(10):\n",
    "    num_dict[num] = 0\n",
    "\n",
    "counter = Counter(multinum)\n",
    "for num in counter.keys():\n",
    "    num_dict[int(num)] = counter[num]\n",
    "\n",
    "for num in num_dict.values():\n",
    "    print(num)\n",
    "\n",
    "# 다른 풀이"
   ]
  },
  {
   "cell_type": "code",
   "execution_count": 3,
   "metadata": {},
   "outputs": [
    {
     "name": "stdout",
     "output_type": "stream",
     "text": [
      "5\n"
     ]
    }
   ],
   "source": [
    "# 2475\n",
    "\n",
    "numlist = list(map(int, input().split()))\n",
    "\n",
    "total = 0\n",
    "for num in numlist:\n",
    "    total += pow(num, 2)\n",
    "\n",
    "print(total%10)\n",
    "\n",
    "# 다른 풀이"
   ]
  },
  {
   "cell_type": "code",
   "execution_count": 6,
   "metadata": {},
   "outputs": [
    {
     "name": "stdout",
     "output_type": "stream",
     "text": [
      "85\n",
      "7\n"
     ]
    }
   ],
   "source": [
    "# 2562\n",
    "\n",
    "numlist = []\n",
    "\n",
    "for _ in range(9):\n",
    "    numlist.append(int(input()))\n",
    "\n",
    "print(max(numlist))\n",
    "print(numlist.index(max(numlist))+1)\n",
    "\n",
    "# 다른 풀이"
   ]
  },
  {
   "cell_type": "code",
   "execution_count": 5,
   "metadata": {},
   "outputs": [
    {
     "ename": "ValueError",
     "evalue": "invalid literal for int() with base 10: '0 30'",
     "output_type": "error",
     "traceback": [
      "\u001b[1;31m---------------------------------------------------------------------------\u001b[0m",
      "\u001b[1;31mValueError\u001b[0m                                Traceback (most recent call last)",
      "\u001b[1;32mC:\\Users\\OHWONJ~1\\AppData\\Local\\Temp/ipykernel_5352/2504086178.py\u001b[0m in \u001b[0;36m<module>\u001b[1;34m\u001b[0m\n\u001b[0;32m      1\u001b[0m \u001b[1;31m# 2675 문자열 반복\u001b[0m\u001b[1;33m\u001b[0m\u001b[1;33m\u001b[0m\u001b[1;33m\u001b[0m\u001b[0m\n\u001b[0;32m      2\u001b[0m \u001b[1;33m\u001b[0m\u001b[0m\n\u001b[1;32m----> 3\u001b[1;33m \u001b[0mtestnum\u001b[0m \u001b[1;33m=\u001b[0m \u001b[0mint\u001b[0m\u001b[1;33m(\u001b[0m\u001b[0minput\u001b[0m\u001b[1;33m(\u001b[0m\u001b[1;33m)\u001b[0m\u001b[1;33m)\u001b[0m\u001b[1;33m\u001b[0m\u001b[1;33m\u001b[0m\u001b[0m\n\u001b[0m\u001b[0;32m      4\u001b[0m \u001b[1;33m\u001b[0m\u001b[0m\n\u001b[0;32m      5\u001b[0m \u001b[0mtestcase\u001b[0m \u001b[1;33m=\u001b[0m \u001b[1;33m[\u001b[0m\u001b[1;33m]\u001b[0m\u001b[1;33m\u001b[0m\u001b[1;33m\u001b[0m\u001b[0m\n",
      "\u001b[1;31mValueError\u001b[0m: invalid literal for int() with base 10: '0 30'"
     ]
    }
   ],
   "source": [
    "# 2675 문자열 반복\n",
    "\n",
    "testnum = int(input())\n",
    "\n",
    "testcase = []\n",
    "for _ in range(testnum):\n",
    "    num, word = input().split()\n",
    "    testcase.append([int(num), word]) # [[3, abc], [5, htp]]\n",
    "\n",
    "for test in testcase:\n",
    "    charlist = list(test[1])\n",
    "    for char in charlist:\n",
    "        for _ in range(test[0]):\n",
    "            print(char, end='')\n",
    "    print()\n",
    "\n",
    "# 다른 풀이"
   ]
  },
  {
   "cell_type": "code",
   "execution_count": 19,
   "metadata": {},
   "outputs": [
    {
     "name": "stdout",
     "output_type": "stream",
     "text": [
      "23 59\n"
     ]
    }
   ],
   "source": [
    "# 2884 알람 시계\n",
    "\n",
    "hour, min = map(int, input().split())\n",
    "\n",
    "hourlist = list(range(24))\n",
    "minlist = list(range(60))\n",
    "\n",
    "if min < 45:\n",
    "    newhour = hourlist[hourlist.index(hour)-1]\n",
    "else:\n",
    "    newhour = hour\n",
    "newmin = minlist[minlist.index(min)-45]\n",
    "\n",
    "print(newhour, newmin)\n",
    "\n",
    "# 다른 풀이"
   ]
  },
  {
   "cell_type": "code",
   "execution_count": 21,
   "metadata": {},
   "outputs": [
    {
     "name": "stdout",
     "output_type": "stream",
     "text": [
      "437\n"
     ]
    }
   ],
   "source": [
    "# 2908 상수\n",
    "\n",
    "a, b = input().split()\n",
    "\n",
    "new_a = int(''.join(list(reversed(a))))\n",
    "new_b = int(''.join(list(reversed(b))))\n",
    "\n",
    "if new_a > new_b:\n",
    "    print(new_a)\n",
    "else:\n",
    "    print(new_b)\n",
    "\n",
    "# 다른 풀이\n",
    "\n",
    "a, b = input().split()\n",
    "\n",
    "a = a[::-1]\n",
    "b = b[::-1]\n",
    "\n",
    "print(max(int(a), int(b)))"
   ]
  },
  {
   "cell_type": "code",
   "execution_count": 39,
   "metadata": {},
   "outputs": [
    {
     "name": "stdout",
     "output_type": "stream",
     "text": [
      "descending\n"
     ]
    }
   ],
   "source": [
    "# 2920 음계\n",
    "\n",
    "soundlist = list(map(int, input().split(' ')))\n",
    "ascendinglist = list(range(1, 9))\n",
    "decendinglist = list(range(8, 0, -1))\n",
    "\n",
    "if soundlist == ascendinglist:\n",
    "    print('ascending')\n",
    "elif soundlist == decendinglist:\n",
    "    print('descending')\n",
    "else:\n",
    "    print('mixed')"
   ]
  },
  {
   "cell_type": "code",
   "execution_count": 1,
   "metadata": {},
   "outputs": [
    {
     "name": "stdout",
     "output_type": "stream",
     "text": [
      "6\n"
     ]
    }
   ],
   "source": [
    "# 3052 나머지\n",
    "\n",
    "numlist = []\n",
    "for _ in range(10):\n",
    "    numlist.append(int(input()))\n",
    "\n",
    "remainlist = []\n",
    "for num in numlist:\n",
    "    remainlist.append(num%42)\n",
    "\n",
    "print(len(set(remainlist)))\n",
    "\n",
    "# 다른 풀이"
   ]
  },
  {
   "cell_type": "code",
   "execution_count": 2,
   "metadata": {},
   "outputs": [
    {
     "name": "stdout",
     "output_type": "stream",
     "text": [
      "[10, 9, 7, 55, 30]\n"
     ]
    }
   ],
   "source": [
    "# 8958 OX퀴즈\n",
    "\n",
    "testnum = int(input())\n",
    "testcase = []\n",
    "for _ in range(testnum):\n",
    "    testcase.append(list(input()))\n",
    "\n",
    "scorelist = []\n",
    "for test in testcase:\n",
    "    scoresum = 0\n",
    "    tmpscore = 1\n",
    "    for char in test:\n",
    "        if char == 'O':\n",
    "            scoresum = scoresum + tmpscore\n",
    "            tmpscore += 1\n",
    "        else:\n",
    "            tmpscore = 1\n",
    "    scorelist.append(scoresum)\n",
    "\n",
    "for score in scorelist:\n",
    "    print(score)\n",
    "\n",
    "# 다른 풀이"
   ]
  },
  {
   "cell_type": "code",
   "execution_count": 11,
   "metadata": {},
   "outputs": [
    {
     "name": "stdout",
     "output_type": "stream",
     "text": [
      "7 35\n"
     ]
    }
   ],
   "source": [
    "# 10818 최대, 최소\n",
    "\n",
    "a = int(input())\n",
    "numlist = list(map(int, input().split()))\n",
    "print(min(numlist), max(numlist))"
   ]
  },
  {
   "cell_type": "code",
   "execution_count": 12,
   "metadata": {},
   "outputs": [
    {
     "name": "stdout",
     "output_type": "stream",
     "text": [
      "46\n"
     ]
    }
   ],
   "source": [
    "# 11720 숫자의 합\n",
    "\n",
    "a = int(input())\n",
    "numlist = list(map(int, list(input())))\n",
    "\n",
    "print(sum(numlist))\n",
    "\n",
    "# 다른 풀이\n",
    "\n",
    "a = int(input())\n",
    "print(sum(map(int,input())))"
   ]
  },
  {
   "cell_type": "code",
   "execution_count": 26,
   "metadata": {},
   "outputs": [
    {
     "name": "stdout",
     "output_type": "stream",
     "text": [
      "2\n",
      "4\n"
     ]
    },
    {
     "ename": "ValueError",
     "evalue": "not enough values to unpack (expected 2, got 0)",
     "output_type": "error",
     "traceback": [
      "\u001b[1;31m---------------------------------------------------------------------------\u001b[0m",
      "\u001b[1;31mValueError\u001b[0m                                Traceback (most recent call last)",
      "\u001b[1;32mC:\\Users\\OHWONJ~1\\AppData\\Local\\Temp/ipykernel_14392/2172374096.py\u001b[0m in \u001b[0;36m<module>\u001b[1;34m\u001b[0m\n\u001b[0;32m      2\u001b[0m \u001b[1;32mwhile\u001b[0m \u001b[1;32mTrue\u001b[0m\u001b[1;33m:\u001b[0m\u001b[1;33m\u001b[0m\u001b[1;33m\u001b[0m\u001b[0m\n\u001b[0;32m      3\u001b[0m     \u001b[1;32mtry\u001b[0m\u001b[1;33m:\u001b[0m\u001b[1;33m\u001b[0m\u001b[1;33m\u001b[0m\u001b[0m\n\u001b[1;32m----> 4\u001b[1;33m         \u001b[0ma\u001b[0m\u001b[1;33m,\u001b[0m \u001b[0mb\u001b[0m \u001b[1;33m=\u001b[0m \u001b[0mmap\u001b[0m\u001b[1;33m(\u001b[0m\u001b[0mint\u001b[0m\u001b[1;33m,\u001b[0m \u001b[0minput\u001b[0m\u001b[1;33m(\u001b[0m\u001b[1;33m)\u001b[0m\u001b[1;33m.\u001b[0m\u001b[0msplit\u001b[0m\u001b[1;33m(\u001b[0m\u001b[1;33m)\u001b[0m\u001b[1;33m)\u001b[0m\u001b[1;33m\u001b[0m\u001b[1;33m\u001b[0m\u001b[0m\n\u001b[0m\u001b[0;32m      5\u001b[0m         \u001b[0mprint\u001b[0m\u001b[1;33m(\u001b[0m\u001b[0ma\u001b[0m\u001b[1;33m+\u001b[0m\u001b[0mb\u001b[0m\u001b[1;33m)\u001b[0m\u001b[1;33m\u001b[0m\u001b[1;33m\u001b[0m\u001b[0m\n\u001b[0;32m      6\u001b[0m     \u001b[1;32mexcept\u001b[0m \u001b[0mEOFError\u001b[0m\u001b[1;33m:\u001b[0m \u001b[1;31m# EOFError 생략가능\u001b[0m\u001b[1;33m\u001b[0m\u001b[1;33m\u001b[0m\u001b[0m\n",
      "\u001b[1;31mValueError\u001b[0m: not enough values to unpack (expected 2, got 0)"
     ]
    }
   ],
   "source": [
    "# 10951 A+B - 4 // while문으로 입력 끝날 때까지 받기\n",
    "while True:\n",
    "    try:\n",
    "        a, b = map(int, input().split())\n",
    "        print(a+b)\n",
    "    except EOFError: # EOFError 생략가능\n",
    "        break"
   ]
  }
 ],
 "metadata": {
  "kernelspec": {
   "display_name": "Python 3.7.11 ('base')",
   "language": "python",
   "name": "python3"
  },
  "language_info": {
   "codemirror_mode": {
    "name": "ipython",
    "version": 3
   },
   "file_extension": ".py",
   "mimetype": "text/x-python",
   "name": "python",
   "nbconvert_exporter": "python",
   "pygments_lexer": "ipython3",
   "version": "3.7.11"
  },
  "orig_nbformat": 4,
  "vscode": {
   "interpreter": {
    "hash": "48acba2db4032312f997c09ca19b224ebd581d3b6d5cfb856604a165419622f1"
   }
  }
 },
 "nbformat": 4,
 "nbformat_minor": 2
}
